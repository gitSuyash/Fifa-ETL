{
 "cells": [
  {
   "cell_type": "code",
   "execution_count": 1,
   "metadata": {},
   "outputs": [],
   "source": [
    "import pandas as pd\n",
    "from Transformation import Transformation"
   ]
  },
  {
   "cell_type": "code",
   "execution_count": null,
   "metadata": {},
   "outputs": [],
   "source": [
    "goals = Transformation().GoalData()\n",
    "games = Transformation().GameData()\n",
    "players = Transformation().PlayerData()\n",
    "rounds = Transformation().RoundsData()\n",
    "teams = Transformation().TeamData()"
   ]
  },
  {
   "cell_type": "code",
   "execution_count": null,
   "metadata": {},
   "outputs": [],
   "source": [
    "print('Goals Has Shape: ',goals.shape)\n",
    "print('Games Has Shape: ',games.shape)\n",
    "print('Teams Has Shape: ',teams.shape)\n",
    "print('Players Has Shape: ',players.shape)\n",
    "print('Rounds Has Shape: ',rounds.shape)"
   ]
  },
  {
   "cell_type": "markdown",
   "metadata": {},
   "source": [
    "* Since the dataframes are of different shape and sizes therefore we can't use merge or concatenate functions to obtain our final dataframe.\n",
    "* We will be defining our own functions to create our final dataframe."
   ]
  },
  {
   "cell_type": "code",
   "execution_count": null,
   "metadata": {},
   "outputs": [],
   "source": [
    "goals.head()"
   ]
  },
  {
   "cell_type": "markdown",
   "metadata": {},
   "source": [
    "* goals dataframe consist of id's linking to various other dataframes, so  we will be using it as a reference dataframe to obtain desired data"
   ]
  },
  {
   "cell_type": "code",
   "execution_count": null,
   "metadata": {},
   "outputs": [],
   "source": [
    "#function to get player names\n",
    "def get_players():\n",
    "    for index in goals.index:\n",
    "        person_id = goals.loc[index,'person_id']\n",
    "        player = players.loc[players['id']==person_id,'name']\n",
    "        goals.loc[index,'person_id'] = player.values[0]\n",
    "    goals.rename(columns={'person_id':'players'},inplace=True)\n",
    "get_players()\n",
    "goals.head(10)"
   ]
  },
  {
   "cell_type": "code",
   "execution_count": null,
   "metadata": {},
   "outputs": [],
   "source": [
    "#function to get opponent team's id\n",
    "def get_opponent_id():\n",
    "    opponent_id = []\n",
    "    for index in goals.index:\n",
    "        team_id = goals.loc[index,'team_id']\n",
    "        game_id = goals.loc[index,'game_id']\n",
    "        team1_id = games.loc[games['id'] == game_id,'team1_id']\n",
    "        team2_id = games.loc[games['id'] == game_id,'team2_id']\n",
    "\n",
    "        opponent_id.append(team2_id.values[0])\n",
    "            \n",
    "    goals['opponent_id'] = opponent_id\n",
    "\n",
    "get_opponent_id()\n",
    "goals.head(10)\n"
   ]
  },
  {
   "cell_type": "code",
   "execution_count": null,
   "metadata": {},
   "outputs": [],
   "source": [
    "goals.loc[goals['owngoal']=='t',:]"
   ]
  },
  {
   "cell_type": "markdown",
   "metadata": {},
   "source": [
    "*owngoal column has caused presence of wrong values in team_id and opponent_id columns for certain observations*"
   ]
  },
  {
   "cell_type": "code",
   "execution_count": null,
   "metadata": {},
   "outputs": [],
   "source": [
    "goals.loc[goals['id']==1,'team_id'] = 211\n",
    "goals.loc[goals['id']==74,['team_id','opponent_id']] = [117,131]\n",
    "goals.loc[goals['id']==89,['team_id','opponent_id']] = [162,210]\n",
    "goals.loc[goals['id']==119,['team_id','opponent_id']] = [18,138]\n",
    "goals.loc[goals['id']==147,['team_id','opponent_id']] = [20,131]\n",
    "goals.loc[goals['owngoal']=='t',:]"
   ]
  },
  {
   "cell_type": "code",
   "execution_count": null,
   "metadata": {},
   "outputs": [],
   "source": [
    "#function to obtain knockout column\n",
    "def get_knockout():\n",
    "    knockout = []\n",
    "    for index in goals.index:\n",
    "        game_id = goals.loc[index,'game_id']\n",
    "        knock_out = games.loc[games['id'] == game_id,'knockout']\n",
    "        knockout.append(knock_out.values[0])\n",
    "    goals['knockout'] = knockout\n",
    "\n",
    "get_knockout()\n",
    "goals.head(10)"
   ]
  },
  {
   "cell_type": "code",
   "execution_count": null,
   "metadata": {},
   "outputs": [],
   "source": [
    "#function to get round's id\n",
    "def get_round_id():\n",
    "    round_id = []\n",
    "    for index in goals.index:\n",
    "        game_id = goals.loc[index,'game_id']\n",
    "        round_ = games.loc[games['id']==game_id,'round_id']\n",
    "        round_id.append(round_.values[0])\n",
    "    goals['round_id'] = round_id\n",
    "\n",
    "get_round_id()\n",
    "goals.head(10)"
   ]
  },
  {
   "cell_type": "code",
   "execution_count": null,
   "metadata": {},
   "outputs": [],
   "source": [
    "#funnction to get team and opponent name\n",
    "def get_teamAndOpponent():\n",
    "    for index in goals.index:\n",
    "        team_id = goals.loc[index,'team_id']\n",
    "        opponent_id = goals.loc[index,'opponent_id']\n",
    "        \n",
    "        team = teams.loc[teams['id']==team_id,'title']\n",
    "        goals.loc[index,'team_id'] = team.values[0]\n",
    "    \n",
    "        opponent = teams.loc[teams['id']==opponent_id,'title']\n",
    "        goals.loc[index,'opponent_id'] = opponent.values[0]\n",
    "    goals.rename(columns={'team_id':'team'},inplace=True)\n",
    "    goals.rename(columns={'opponent_id':'opponent'},inplace=True)\n",
    "\n",
    "get_teamAndOpponent()\n",
    "goals.head(10)"
   ]
  },
  {
   "cell_type": "code",
   "execution_count": null,
   "metadata": {},
   "outputs": [],
   "source": [
    "#functuion to get rounds\n",
    "def get_rounds():\n",
    "    for index in goals.index:\n",
    "        round_id = goals.loc[index,'round_id']\n",
    "        \n",
    "        round_ = rounds.loc[rounds['id']==round_id,'title']\n",
    "        goals.loc[index,'round_id'] = round_.values[0]\n",
    "        \n",
    "    goals.rename(columns={'round_id':'round'},inplace=True)\n",
    "\n",
    "get_rounds()\n",
    "goals.head(10)"
   ]
  },
  {
   "cell_type": "code",
   "execution_count": null,
   "metadata": {},
   "outputs": [],
   "source": [
    "#create boolean features\n",
    "encode = {'f':0,'t':1}\n",
    "goals['penalty']=goals['penalty'].map(encode)\n",
    "goals['owngoal']=goals['owngoal'].map(encode)\n",
    "goals['knockout']=goals['knockout'].map(encode)\n",
    "\n",
    "goals.head(10)"
   ]
  },
  {
   "cell_type": "markdown",
   "metadata": {},
   "source": [
    "Save final dataframe as a csv file"
   ]
  },
  {
   "cell_type": "code",
   "execution_count": null,
   "metadata": {},
   "outputs": [],
   "source": [
    "goals.to_csv('data.csv',index=False)"
   ]
  }
 ],
 "metadata": {
  "kernelspec": {
   "display_name": "Python 3",
   "language": "python",
   "name": "python3"
  },
  "language_info": {
   "codemirror_mode": {
    "name": "ipython",
    "version": 3
   },
   "file_extension": ".py",
   "mimetype": "text/x-python",
   "name": "python",
   "nbconvert_exporter": "python",
   "pygments_lexer": "ipython3",
   "version": "3.7.4"
  }
 },
 "nbformat": 4,
 "nbformat_minor": 4
}
